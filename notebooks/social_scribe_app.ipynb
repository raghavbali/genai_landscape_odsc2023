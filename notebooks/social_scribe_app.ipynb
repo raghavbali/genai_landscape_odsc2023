{
  "cells": [
    {
      "cell_type": "markdown",
      "metadata": {
        "id": "CQ7lJK0y9gJO"
      },
      "source": [
        "# Generative AI Powered App App\n",
        "<img src=\"rap_banner.jpeg\">\n",
        "\n",
        "We will work through development of an app to showcase how we can leverage LLMs and Text2Image Models into a fully functioning system\n",
        "\n",
        "__Note__: In order to keep things simple, we will leverage most high-level APIs available but the overall setup should be easily extensible"
      ]
    },
    {
      "cell_type": "markdown",
      "metadata": {
        "id": "bxi-yR1n9gJR"
      },
      "source": [
        "## Streamlit Enters the Arena\n",
        "\n",
        "[Streamlit](https://streamlit.io/) is an open-source Python library that makes it easy to create and share beautiful, custom web apps for machine learning and data science."
      ]
    },
    {
      "cell_type": "markdown",
      "metadata": {},
      "source": [
        "<a target=\"_blank\" href=\"https://colab.research.google.com/github/raghavbali/genai_landscape_odsc2023/blob/main/notebooks/social_scribe_app.ipynb\">\n",
        "  <img src=\"https://colab.research.google.com/assets/colab-badge.svg\" alt=\"Open In Colab\"/>\n",
        "</a>"
      ]
    },
    {
      "cell_type": "markdown",
      "metadata": {
        "id": "fTFt0rOY9gJR"
      },
      "source": [
        "## Let us Begin with Installation"
      ]
    },
    {
      "cell_type": "code",
      "execution_count": 1,
      "metadata": {
        "id": "z_dNazilzRUF"
      },
      "outputs": [],
      "source": [
        "%%capture\n",
        "# install dependencies\n",
        "!pip install -q streamlit\n",
        "!pip install openai\n",
        "!pip install retry\n",
        "!npm install localtunnel"
      ]
    },
    {
      "cell_type": "code",
      "execution_count": 29,
      "metadata": {
        "id": "mlGSHYN0bQSm"
      },
      "outputs": [],
      "source": [
        "!streamlit run social_scribe.py &>/content/logs.txt &"
      ]
    },
    {
      "cell_type": "code",
      "execution_count": 30,
      "metadata": {
        "colab": {
          "base_uri": "https://localhost:8080/"
        },
        "id": "b5dllFNabXhE",
        "outputId": "8dd09f2d-c36d-49f1-e25d-991b18d1574c"
      },
      "outputs": [
        {
          "name": "stdout",
          "output_type": "stream",
          "text": [
            "\u001b[K\u001b[?25hnpx: installed 22 in 2.41s\n",
            "your url is: https://icy-heads-enjoy.loca.lt\n",
            "^C\n"
          ]
        }
      ],
      "source": [
        "!npx localtunnel --port 8501"
      ]
    },
    {
      "cell_type": "markdown",
      "metadata": {},
      "source": [
        "## Sample Output"
      ]
    },
    {
      "cell_type": "markdown",
      "metadata": {},
      "source": [
        "<img src=\"./soc_gif2_opt.gif\">"
      ]
    },
    {
      "cell_type": "markdown",
      "metadata": {},
      "source": []
    }
  ],
  "metadata": {
    "colab": {
      "provenance": []
    },
    "kernelspec": {
      "display_name": "Python 3",
      "name": "python3"
    },
    "language_info": {
      "name": "python"
    }
  },
  "nbformat": 4,
  "nbformat_minor": 0
}
